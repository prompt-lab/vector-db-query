{
 "cells": [
  {
   "cell_type": "code",
   "execution_count": 11,
   "metadata": {
    "collapsed": true,
    "ExecuteTime": {
     "end_time": "2023-05-23T04:16:41.581750Z",
     "start_time": "2023-05-23T04:16:41.579357Z"
    }
   },
   "outputs": [],
   "source": [
    "import openai\n",
    "from pymilvus import DataType, Collection, connections, FieldSchema, CollectionSchema"
   ]
  },
  {
   "cell_type": "code",
   "execution_count": 27,
   "outputs": [],
   "source": [
    "openai.api_key = ''\n",
    "# Connect to Milvus server\n",
    "connections.connect(\"default\", host=\"localhost\", port=\"19530\")"
   ],
   "metadata": {
    "collapsed": false,
    "ExecuteTime": {
     "end_time": "2023-05-23T04:21:28.219007Z",
     "start_time": "2023-05-23T04:21:28.203027Z"
    }
   }
  },
  {
   "cell_type": "code",
   "execution_count": 22,
   "outputs": [],
   "source": [
    "# Define the schema for the collection\n",
    "fields = [\n",
    "    FieldSchema(name=\"pk\", dtype=DataType.INT64, is_primary=True, auto_id=True),\n",
    "    FieldSchema(name=\"embedding\", dtype=DataType.FLOAT_VECTOR, dim=1536),\n",
    "    FieldSchema(name=\"original_string\", dtype=DataType.VARCHAR, max_length=256)\n",
    "]\n",
    "schema = CollectionSchema(fields, description=\"Collection for OpenAI Embeddings\")"
   ],
   "metadata": {
    "collapsed": false,
    "ExecuteTime": {
     "end_time": "2023-05-23T04:20:50.038969Z",
     "start_time": "2023-05-23T04:20:50.037227Z"
    }
   }
  },
  {
   "cell_type": "code",
   "execution_count": null,
   "outputs": [],
   "source": [],
   "metadata": {
    "collapsed": false
   }
  },
  {
   "cell_type": "code",
   "execution_count": 23,
   "outputs": [],
   "source": [
    "# Create the collection\n",
    "collection = Collection(\"OpenAI_Embeddings\", schema)"
   ],
   "metadata": {
    "collapsed": false,
    "ExecuteTime": {
     "end_time": "2023-05-23T04:20:50.752318Z",
     "start_time": "2023-05-23T04:20:50.677509Z"
    }
   }
  },
  {
   "cell_type": "code",
   "execution_count": 24,
   "outputs": [],
   "source": [
    "# Define your array of strings\n",
    "string_array = [\"string first\", \"string second\", \"string third\"]"
   ],
   "metadata": {
    "collapsed": false,
    "ExecuteTime": {
     "end_time": "2023-05-23T04:20:55.999314Z",
     "start_time": "2023-05-23T04:20:55.983320Z"
    }
   }
  },
  {
   "cell_type": "code",
   "execution_count": 25,
   "outputs": [],
   "source": [
    "# Define two lists to store the embeddings and original strings\n",
    "embeddings = []\n",
    "original_strings = []"
   ],
   "metadata": {
    "collapsed": false,
    "ExecuteTime": {
     "end_time": "2023-05-23T04:20:57.685123Z",
     "start_time": "2023-05-23T04:20:57.671852Z"
    }
   }
  },
  {
   "cell_type": "code",
   "execution_count": 28,
   "outputs": [],
   "source": [
    "# Iterate through each string in the array\n",
    "for string in string_array:\n",
    "    # Embed the string using OpenAI\n",
    "    response = openai.Embedding.create(\n",
    "        input=string,\n",
    "        model=\"text-embedding-ada-002\"\n",
    "    )\n",
    "    # Append the embedding and the original string to the respective lists\n",
    "    embeddings.append(response[\"data\"][0][\"embedding\"])\n",
    "    original_strings.append(string)"
   ],
   "metadata": {
    "collapsed": false,
    "ExecuteTime": {
     "end_time": "2023-05-23T04:21:32.991764Z",
     "start_time": "2023-05-23T04:21:31.327647Z"
    }
   }
  },
  {
   "cell_type": "code",
   "execution_count": 29,
   "outputs": [],
   "source": [
    "# Insert the embeddings and the original strings into the collection\n",
    "entities = [\n",
    "    embeddings,  # field embedding\n",
    "    original_strings  # field original_string\n",
    "]\n",
    "insert_result = collection.insert(entities)"
   ],
   "metadata": {
    "collapsed": false,
    "ExecuteTime": {
     "end_time": "2023-05-23T04:21:43.576012Z",
     "start_time": "2023-05-23T04:21:43.532688Z"
    }
   }
  },
  {
   "cell_type": "code",
   "execution_count": 30,
   "outputs": [],
   "source": [
    "# After final entity is inserted, it's best to call flush to have no growing segments left in memory\n",
    "collection.flush()"
   ],
   "metadata": {
    "collapsed": false,
    "ExecuteTime": {
     "end_time": "2023-05-23T04:21:47.556768Z",
     "start_time": "2023-05-23T04:21:46.484960Z"
    }
   }
  },
  {
   "cell_type": "code",
   "execution_count": 31,
   "outputs": [
    {
     "data": {
      "text/plain": "Status(code=0, message=)"
     },
     "execution_count": 31,
     "metadata": {},
     "output_type": "execute_result"
    }
   ],
   "source": [
    "# Build indexes on the embeddings\n",
    "index = {\n",
    "    \"index_type\": \"IVF_FLAT\",\n",
    "    \"metric_type\": \"L2\",\n",
    "    \"params\": {\"nlist\": 128},\n",
    "}\n",
    "collection.create_index(\"embedding\", index)"
   ],
   "metadata": {
    "collapsed": false,
    "ExecuteTime": {
     "end_time": "2023-05-23T04:21:52.814676Z",
     "start_time": "2023-05-23T04:21:52.216490Z"
    }
   }
  },
  {
   "cell_type": "code",
   "execution_count": 32,
   "outputs": [],
   "source": [
    "# Load the collection to memory before performing a search\n",
    "collection.load()"
   ],
   "metadata": {
    "collapsed": false,
    "ExecuteTime": {
     "end_time": "2023-05-23T04:22:17.220334Z",
     "start_time": "2023-05-23T04:22:00.129689Z"
    }
   }
  },
  {
   "cell_type": "code",
   "execution_count": null,
   "outputs": [],
   "source": [],
   "metadata": {
    "collapsed": false
   }
  }
 ],
 "metadata": {
  "kernelspec": {
   "display_name": "Python 3",
   "language": "python",
   "name": "python3"
  },
  "language_info": {
   "codemirror_mode": {
    "name": "ipython",
    "version": 2
   },
   "file_extension": ".py",
   "mimetype": "text/x-python",
   "name": "python",
   "nbconvert_exporter": "python",
   "pygments_lexer": "ipython2",
   "version": "2.7.6"
  }
 },
 "nbformat": 4,
 "nbformat_minor": 0
}
